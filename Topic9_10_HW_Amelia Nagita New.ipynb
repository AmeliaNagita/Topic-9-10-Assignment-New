{
 "cells": [
  {
   "cell_type": "code",
   "execution_count": 2,
   "id": "9a3fded2-9765-481f-af12-75098150b6f1",
   "metadata": {},
   "outputs": [],
   "source": [
    "import pandas as pd\n",
    "import numpy as np\n",
    "import scipy.stats as stats"
   ]
  },
  {
   "cell_type": "markdown",
   "id": "9b50d74e-b6e1-4237-89f2-a997bf9a55ce",
   "metadata": {},
   "source": [
    "A company wants to run a new campaign to increase the transactions’ amount of its product.\n",
    "Before running the actual campaign to the whole customers, the company wants to know the \n",
    "campaign’s effectiveness in their 30 days transactions’ amount.\n",
    "The average of transactions’ amount before the campaign is $100.\n",
    "The company ran a testing on 20 customers and gathered their transactions’ amount in the next 30 \n",
    "days after the campaign. The data is stored in this table below.\n",
    "Run a t-test analysis on the transactions’ amount average (with alpha = 5%).\n",
    "\n",
    "Transactions Amount - 30 days ($)\n",
    "100 150 50 100 130 120 100 110 75 65\n",
    "150 120 50 100 100 140 90 150 50 90\n"
   ]
  },
  {
   "cell_type": "code",
   "execution_count": 5,
   "id": "850668e6-120e-4a34-bd5b-e3619303bca6",
   "metadata": {},
   "outputs": [
    {
     "data": {
      "text/plain": [
       "array([100, 150,  50, 100, 130, 120, 100, 110,  75,  65, 150, 120,  50,\n",
       "       100, 100, 140,  90, 150,  50,  90])"
      ]
     },
     "execution_count": 5,
     "metadata": {},
     "output_type": "execute_result"
    }
   ],
   "source": [
    "#make a array about transactions amount-30 days($)\n",
    "data = np.array([100, 150, 50, 100, 130, 120, 100, 110, 75, 65, \n",
    "                150, 120, 50, 100, 100, 140, 90, 150, 50, 90])\n",
    "data"
   ]
  },
  {
   "cell_type": "markdown",
   "id": "b6330610-8195-48db-b33d-fd604bd48513",
   "metadata": {},
   "source": [
    "Define H0 and H1\n"
   ]
  },
  {
   "cell_type": "markdown",
   "id": "f521fab7-f6df-4610-a17d-c63096532e09",
   "metadata": {},
   "source": [
    "H0: The average Before running the actual campaign = $100\n",
    "\n",
    "H1: The average Before running the actual campaign > $100\n"
   ]
  },
  {
   "cell_type": "markdown",
   "id": "a7b0a36f-c5da-479c-8077-6f305cbc9870",
   "metadata": {},
   "source": [
    "Determine mean\n"
   ]
  },
  {
   "cell_type": "code",
   "execution_count": 23,
   "id": "9cb65fcb-7566-45a6-a49c-2b1a28ff60ea",
   "metadata": {},
   "outputs": [
    {
     "data": {
      "text/plain": [
       "102.0"
      ]
     },
     "execution_count": 23,
     "metadata": {},
     "output_type": "execute_result"
    }
   ],
   "source": [
    "mean=np.mean(data)\n",
    "mean"
   ]
  },
  {
   "cell_type": "markdown",
   "id": "1b5e60af-cfcd-4b3c-9888-0a06d67f2bd6",
   "metadata": {},
   "source": [
    "Determine standard deviation\n"
   ]
  },
  {
   "cell_type": "code",
   "execution_count": 25,
   "id": "dcd2d9bd-9a87-4220-aee4-a7482b26b730",
   "metadata": {},
   "outputs": [
    {
     "data": {
      "text/plain": [
       "31.913946794465897"
      ]
     },
     "execution_count": 25,
     "metadata": {},
     "output_type": "execute_result"
    }
   ],
   "source": [
    "std=np.std(data)\n",
    "std"
   ]
  },
  {
   "cell_type": "markdown",
   "id": "833626b8-fd91-4307-a3de-11246da2e34b",
   "metadata": {},
   "source": [
    "Perform T-Test\n"
   ]
  },
  {
   "cell_type": "code",
   "execution_count": 28,
   "id": "db0cd6e4-b91d-4997-bf98-ad74fa7af81d",
   "metadata": {},
   "outputs": [
    {
     "data": {
      "text/plain": [
       "Ttest_1sampResult(statistic=0.2731657711666385, pvalue=0.787672894169515)"
      ]
     },
     "execution_count": 28,
     "metadata": {},
     "output_type": "execute_result"
    }
   ],
   "source": [
    "stats.ttest_1samp(a=data, popmean=100)"
   ]
  },
  {
   "cell_type": "markdown",
   "id": "12fc9502-7ed7-44f6-aa61-882a7e003693",
   "metadata": {},
   "source": [
    "For two tailed test:"
   ]
  },
  {
   "cell_type": "markdown",
   "id": "abae0c8d-9c41-46ab-8240-dc3c1ed20750",
   "metadata": {},
   "source": [
    "If using alpha = 0.05, then the concolusion is P-value larger than alpha, meaning we fail to reject H0\n",
    "Conclusion: The mean is equal to 100\n",
    "\n",
    "If using t statistic, we have to find the critical region first:"
   ]
  },
  {
   "cell_type": "code",
   "execution_count": 10,
   "id": "ed61eaee-9761-4bb9-b4f6-f9ff26abea4b",
   "metadata": {},
   "outputs": [
    {
     "data": {
      "text/plain": [
       "2.093024054408263"
      ]
     },
     "execution_count": 10,
     "metadata": {},
     "output_type": "execute_result"
    }
   ],
   "source": [
    "stats.t.ppf(1-(0.05/2), 19)"
   ]
  },
  {
   "cell_type": "markdown",
   "id": "f39f7d3e-3577-4a8b-9747-6fc7ec1a7436",
   "metadata": {},
   "source": [
    "Critical Region: t < - 2.09 or t > 2.09\n",
    "As t statistic is not in the critical region, then we fail to reject H0\n",
    "Conclusion: The mean is equal to 100"
   ]
  },
  {
   "cell_type": "markdown",
   "id": "8d4812b0-7e90-455e-a27e-e9ac6e6602ee",
   "metadata": {},
   "source": [
    "For One tailed test:"
   ]
  },
  {
   "cell_type": "code",
   "execution_count": 11,
   "id": "09efd6a6-ea69-4d0f-98d1-0286417059a6",
   "metadata": {},
   "outputs": [
    {
     "data": {
      "text/plain": [
       "0.3938364470847575"
      ]
     },
     "execution_count": 11,
     "metadata": {},
     "output_type": "execute_result"
    }
   ],
   "source": [
    "pvalue=0.787672894169515\n",
    "pvalue/2"
   ]
  },
  {
   "cell_type": "markdown",
   "id": "8e7fe541-6ae5-4baa-8da5-4a026845fa05",
   "metadata": {},
   "source": [
    "If using alpha = 0.05, use P-value/2 = 0.39. Thee concolusion is P-value/2 larger than alpha, meaning we fail to reject H0\n",
    "Conclusion: The mean is equal to 100\n",
    "\n",
    "If using t statistic, we have to find the critical region first:"
   ]
  },
  {
   "cell_type": "code",
   "execution_count": 13,
   "id": "ef739f6c-1fdc-4c3f-bf0d-0cdecbe98b7b",
   "metadata": {},
   "outputs": [
    {
     "data": {
      "text/plain": [
       "1.729132811521367"
      ]
     },
     "execution_count": 13,
     "metadata": {},
     "output_type": "execute_result"
    }
   ],
   "source": [
    "# If H1: mean > 100 (right side)\n",
    "stats.t.ppf(1-0.05, 19)\n"
   ]
  },
  {
   "cell_type": "markdown",
   "id": "7483874f-3842-498d-b8cf-2986bc8eb257",
   "metadata": {
    "tags": []
   },
   "source": [
    "Critical Region: t > 1.73\n",
    "As t statistic is not in the critical region, then we fail to reject H0\n",
    "Conclusion: The mean is equal to 100"
   ]
  },
  {
   "cell_type": "code",
   "execution_count": 16,
   "id": "7020b9b1-7558-4709-8904-cf878c84faac",
   "metadata": {},
   "outputs": [
    {
     "data": {
      "text/plain": [
       "-1.7291328115213678"
      ]
     },
     "execution_count": 16,
     "metadata": {},
     "output_type": "execute_result"
    }
   ],
   "source": [
    "#If H1: mean < 100 (left side)\n",
    "stats.t.ppf(0.05, 19)"
   ]
  },
  {
   "cell_type": "markdown",
   "id": "96cc24b2-da55-4b47-84d1-fe048b2feed0",
   "metadata": {},
   "source": [
    "Critical Region: t < -1.73\n",
    "As t statistic is not in the critical region, then we fail to reject H0\n",
    "Conclusion: The mean is equal to 100"
   ]
  }
 ],
 "metadata": {
  "kernelspec": {
   "display_name": "Python 3 (ipykernel)",
   "language": "python",
   "name": "python3"
  },
  "language_info": {
   "codemirror_mode": {
    "name": "ipython",
    "version": 3
   },
   "file_extension": ".py",
   "mimetype": "text/x-python",
   "name": "python",
   "nbconvert_exporter": "python",
   "pygments_lexer": "ipython3",
   "version": "3.9.12"
  },
  "toc-autonumbering": false,
  "toc-showcode": false,
  "toc-showmarkdowntxt": true,
  "toc-showtags": true
 },
 "nbformat": 4,
 "nbformat_minor": 5
}
